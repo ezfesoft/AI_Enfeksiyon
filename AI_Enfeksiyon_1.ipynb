{
  "nbformat": 4,
  "nbformat_minor": 0,
  "metadata": {
    "colab": {
      "provenance": []
    },
    "kernelspec": {
      "name": "python3",
      "display_name": "Python 3"
    },
    "language_info": {
      "name": "python"
    }
  },
  "cells": [
    {
      "cell_type": "markdown",
      "source": [
        "# KARBAPENEM DİRENÇLİ ENTEROBACTERIACEAE ENFEKSİYONU RİSK FAKTÖRLERİ VE ENFEKSİYONU OLAN HASTALARDA MORTALİTENİN DEĞERLENDİRİLMESİ\n",
        "\n",
        "**Makine Öğrenmesi Yöntemleri ile Değerlendirilmesi**\n",
        "\n",
        "\n",
        "---\n",
        "\n",
        "\n",
        "Prof. Dr. Gül Ruhsar YILMAZ\n",
        "\n",
        "Prof. Dr. Muhammet DEMİRBİLEK\n",
        "\n",
        "Öğr. Gör. Süleyman EZDEMİR\n",
        "\n",
        "Talha DEMİRBİLEK\n",
        "\n",
        "Ensar DEMİRBİLEK\n"
      ],
      "metadata": {
        "id": "K7-nV5ddTU2b"
      }
    },
    {
      "cell_type": "code",
      "execution_count": null,
      "metadata": {
        "id": "1Gg0psr6TOXg"
      },
      "outputs": [],
      "source": [
        "import numpy as np\n",
        "import matplotlib.pyplot as plt\n",
        "import pandas as pd"
      ]
    },
    {
      "cell_type": "code",
      "source": [
        "dataset = pd.read_csv('/content/data_apache_yas.csv')\n"
      ],
      "metadata": {
        "id": "9nJ5oDgOq39B"
      },
      "execution_count": null,
      "outputs": []
    },
    {
      "cell_type": "markdown",
      "source": [
        "Eksik Verileri NaN olarak değiştirelim."
      ],
      "metadata": {
        "id": "mtp3WK4zsGz8"
      }
    },
    {
      "cell_type": "code",
      "source": [
        "dataset.replace(\"?\",np.nan, inplace=True)\n",
        "dataset"
      ],
      "metadata": {
        "colab": {
          "base_uri": "https://localhost:8080/",
          "height": 424
        },
        "id": "t9n3EtqDrt36",
        "outputId": "615c6339-ba25-404d-c531-c8c06faf6398"
      },
      "execution_count": null,
      "outputs": [
        {
          "output_type": "execute_result",
          "data": {
            "text/plain": [
              "     apache  yas  vaka\n",
              "0       8.0   64     1\n",
              "1      18.0   69     1\n",
              "2      18.0   66     1\n",
              "3      17.0   66     1\n",
              "4      10.0   75     1\n",
              "..      ...  ...   ...\n",
              "435     8.0   79     2\n",
              "436    21.0   74     2\n",
              "437     6.0   58     2\n",
              "438     8.0   65     2\n",
              "439    19.0   64     2\n",
              "\n",
              "[440 rows x 3 columns]"
            ],
            "text/html": [
              "\n",
              "\n",
              "  <div id=\"df-b68c24c0-3166-46c0-9020-113e8d0c53c4\">\n",
              "    <div class=\"colab-df-container\">\n",
              "      <div>\n",
              "<style scoped>\n",
              "    .dataframe tbody tr th:only-of-type {\n",
              "        vertical-align: middle;\n",
              "    }\n",
              "\n",
              "    .dataframe tbody tr th {\n",
              "        vertical-align: top;\n",
              "    }\n",
              "\n",
              "    .dataframe thead th {\n",
              "        text-align: right;\n",
              "    }\n",
              "</style>\n",
              "<table border=\"1\" class=\"dataframe\">\n",
              "  <thead>\n",
              "    <tr style=\"text-align: right;\">\n",
              "      <th></th>\n",
              "      <th>apache</th>\n",
              "      <th>yas</th>\n",
              "      <th>vaka</th>\n",
              "    </tr>\n",
              "  </thead>\n",
              "  <tbody>\n",
              "    <tr>\n",
              "      <th>0</th>\n",
              "      <td>8.0</td>\n",
              "      <td>64</td>\n",
              "      <td>1</td>\n",
              "    </tr>\n",
              "    <tr>\n",
              "      <th>1</th>\n",
              "      <td>18.0</td>\n",
              "      <td>69</td>\n",
              "      <td>1</td>\n",
              "    </tr>\n",
              "    <tr>\n",
              "      <th>2</th>\n",
              "      <td>18.0</td>\n",
              "      <td>66</td>\n",
              "      <td>1</td>\n",
              "    </tr>\n",
              "    <tr>\n",
              "      <th>3</th>\n",
              "      <td>17.0</td>\n",
              "      <td>66</td>\n",
              "      <td>1</td>\n",
              "    </tr>\n",
              "    <tr>\n",
              "      <th>4</th>\n",
              "      <td>10.0</td>\n",
              "      <td>75</td>\n",
              "      <td>1</td>\n",
              "    </tr>\n",
              "    <tr>\n",
              "      <th>...</th>\n",
              "      <td>...</td>\n",
              "      <td>...</td>\n",
              "      <td>...</td>\n",
              "    </tr>\n",
              "    <tr>\n",
              "      <th>435</th>\n",
              "      <td>8.0</td>\n",
              "      <td>79</td>\n",
              "      <td>2</td>\n",
              "    </tr>\n",
              "    <tr>\n",
              "      <th>436</th>\n",
              "      <td>21.0</td>\n",
              "      <td>74</td>\n",
              "      <td>2</td>\n",
              "    </tr>\n",
              "    <tr>\n",
              "      <th>437</th>\n",
              "      <td>6.0</td>\n",
              "      <td>58</td>\n",
              "      <td>2</td>\n",
              "    </tr>\n",
              "    <tr>\n",
              "      <th>438</th>\n",
              "      <td>8.0</td>\n",
              "      <td>65</td>\n",
              "      <td>2</td>\n",
              "    </tr>\n",
              "    <tr>\n",
              "      <th>439</th>\n",
              "      <td>19.0</td>\n",
              "      <td>64</td>\n",
              "      <td>2</td>\n",
              "    </tr>\n",
              "  </tbody>\n",
              "</table>\n",
              "<p>440 rows × 3 columns</p>\n",
              "</div>\n",
              "      <button class=\"colab-df-convert\" onclick=\"convertToInteractive('df-b68c24c0-3166-46c0-9020-113e8d0c53c4')\"\n",
              "              title=\"Convert this dataframe to an interactive table.\"\n",
              "              style=\"display:none;\">\n",
              "\n",
              "  <svg xmlns=\"http://www.w3.org/2000/svg\" height=\"24px\"viewBox=\"0 0 24 24\"\n",
              "       width=\"24px\">\n",
              "    <path d=\"M0 0h24v24H0V0z\" fill=\"none\"/>\n",
              "    <path d=\"M18.56 5.44l.94 2.06.94-2.06 2.06-.94-2.06-.94-.94-2.06-.94 2.06-2.06.94zm-11 1L8.5 8.5l.94-2.06 2.06-.94-2.06-.94L8.5 2.5l-.94 2.06-2.06.94zm10 10l.94 2.06.94-2.06 2.06-.94-2.06-.94-.94-2.06-.94 2.06-2.06.94z\"/><path d=\"M17.41 7.96l-1.37-1.37c-.4-.4-.92-.59-1.43-.59-.52 0-1.04.2-1.43.59L10.3 9.45l-7.72 7.72c-.78.78-.78 2.05 0 2.83L4 21.41c.39.39.9.59 1.41.59.51 0 1.02-.2 1.41-.59l7.78-7.78 2.81-2.81c.8-.78.8-2.07 0-2.86zM5.41 20L4 18.59l7.72-7.72 1.47 1.35L5.41 20z\"/>\n",
              "  </svg>\n",
              "      </button>\n",
              "\n",
              "\n",
              "\n",
              "    <div id=\"df-374e904c-1e91-432f-818b-c1151fe47f05\">\n",
              "      <button class=\"colab-df-quickchart\" onclick=\"quickchart('df-374e904c-1e91-432f-818b-c1151fe47f05')\"\n",
              "              title=\"Suggest charts.\"\n",
              "              style=\"display:none;\">\n",
              "\n",
              "<svg xmlns=\"http://www.w3.org/2000/svg\" height=\"24px\"viewBox=\"0 0 24 24\"\n",
              "     width=\"24px\">\n",
              "    <g>\n",
              "        <path d=\"M19 3H5c-1.1 0-2 .9-2 2v14c0 1.1.9 2 2 2h14c1.1 0 2-.9 2-2V5c0-1.1-.9-2-2-2zM9 17H7v-7h2v7zm4 0h-2V7h2v10zm4 0h-2v-4h2v4z\"/>\n",
              "    </g>\n",
              "</svg>\n",
              "      </button>\n",
              "    </div>\n",
              "\n",
              "<style>\n",
              "  .colab-df-quickchart {\n",
              "    background-color: #E8F0FE;\n",
              "    border: none;\n",
              "    border-radius: 50%;\n",
              "    cursor: pointer;\n",
              "    display: none;\n",
              "    fill: #1967D2;\n",
              "    height: 32px;\n",
              "    padding: 0 0 0 0;\n",
              "    width: 32px;\n",
              "  }\n",
              "\n",
              "  .colab-df-quickchart:hover {\n",
              "    background-color: #E2EBFA;\n",
              "    box-shadow: 0px 1px 2px rgba(60, 64, 67, 0.3), 0px 1px 3px 1px rgba(60, 64, 67, 0.15);\n",
              "    fill: #174EA6;\n",
              "  }\n",
              "\n",
              "  [theme=dark] .colab-df-quickchart {\n",
              "    background-color: #3B4455;\n",
              "    fill: #D2E3FC;\n",
              "  }\n",
              "\n",
              "  [theme=dark] .colab-df-quickchart:hover {\n",
              "    background-color: #434B5C;\n",
              "    box-shadow: 0px 1px 3px 1px rgba(0, 0, 0, 0.15);\n",
              "    filter: drop-shadow(0px 1px 2px rgba(0, 0, 0, 0.3));\n",
              "    fill: #FFFFFF;\n",
              "  }\n",
              "</style>\n",
              "\n",
              "    <script>\n",
              "      async function quickchart(key) {\n",
              "        const containerElement = document.querySelector('#' + key);\n",
              "        const charts = await google.colab.kernel.invokeFunction(\n",
              "            'suggestCharts', [key], {});\n",
              "      }\n",
              "    </script>\n",
              "\n",
              "      <script>\n",
              "\n",
              "function displayQuickchartButton(domScope) {\n",
              "  let quickchartButtonEl =\n",
              "    domScope.querySelector('#df-374e904c-1e91-432f-818b-c1151fe47f05 button.colab-df-quickchart');\n",
              "  quickchartButtonEl.style.display =\n",
              "    google.colab.kernel.accessAllowed ? 'block' : 'none';\n",
              "}\n",
              "\n",
              "        displayQuickchartButton(document);\n",
              "      </script>\n",
              "      <style>\n",
              "    .colab-df-container {\n",
              "      display:flex;\n",
              "      flex-wrap:wrap;\n",
              "      gap: 12px;\n",
              "    }\n",
              "\n",
              "    .colab-df-convert {\n",
              "      background-color: #E8F0FE;\n",
              "      border: none;\n",
              "      border-radius: 50%;\n",
              "      cursor: pointer;\n",
              "      display: none;\n",
              "      fill: #1967D2;\n",
              "      height: 32px;\n",
              "      padding: 0 0 0 0;\n",
              "      width: 32px;\n",
              "    }\n",
              "\n",
              "    .colab-df-convert:hover {\n",
              "      background-color: #E2EBFA;\n",
              "      box-shadow: 0px 1px 2px rgba(60, 64, 67, 0.3), 0px 1px 3px 1px rgba(60, 64, 67, 0.15);\n",
              "      fill: #174EA6;\n",
              "    }\n",
              "\n",
              "    [theme=dark] .colab-df-convert {\n",
              "      background-color: #3B4455;\n",
              "      fill: #D2E3FC;\n",
              "    }\n",
              "\n",
              "    [theme=dark] .colab-df-convert:hover {\n",
              "      background-color: #434B5C;\n",
              "      box-shadow: 0px 1px 3px 1px rgba(0, 0, 0, 0.15);\n",
              "      filter: drop-shadow(0px 1px 2px rgba(0, 0, 0, 0.3));\n",
              "      fill: #FFFFFF;\n",
              "    }\n",
              "  </style>\n",
              "\n",
              "      <script>\n",
              "        const buttonEl =\n",
              "          document.querySelector('#df-b68c24c0-3166-46c0-9020-113e8d0c53c4 button.colab-df-convert');\n",
              "        buttonEl.style.display =\n",
              "          google.colab.kernel.accessAllowed ? 'block' : 'none';\n",
              "\n",
              "        async function convertToInteractive(key) {\n",
              "          const element = document.querySelector('#df-b68c24c0-3166-46c0-9020-113e8d0c53c4');\n",
              "          const dataTable =\n",
              "            await google.colab.kernel.invokeFunction('convertToInteractive',\n",
              "                                                     [key], {});\n",
              "          if (!dataTable) return;\n",
              "\n",
              "          const docLinkHtml = 'Like what you see? Visit the ' +\n",
              "            '<a target=\"_blank\" href=https://colab.research.google.com/notebooks/data_table.ipynb>data table notebook</a>'\n",
              "            + ' to learn more about interactive tables.';\n",
              "          element.innerHTML = '';\n",
              "          dataTable['output_type'] = 'display_data';\n",
              "          await google.colab.output.renderOutput(dataTable, element);\n",
              "          const docLink = document.createElement('div');\n",
              "          docLink.innerHTML = docLinkHtml;\n",
              "          element.appendChild(docLink);\n",
              "        }\n",
              "      </script>\n",
              "    </div>\n",
              "  </div>\n"
            ]
          },
          "metadata": {},
          "execution_count": 85
        }
      ]
    },
    {
      "cell_type": "code",
      "source": [
        "dataset.info()"
      ],
      "metadata": {
        "colab": {
          "base_uri": "https://localhost:8080/"
        },
        "id": "uvBMaRsNsBOw",
        "outputId": "4dae1110-6f61-4cb8-98c3-8f252b082998"
      },
      "execution_count": null,
      "outputs": [
        {
          "output_type": "stream",
          "name": "stdout",
          "text": [
            "<class 'pandas.core.frame.DataFrame'>\n",
            "RangeIndex: 440 entries, 0 to 439\n",
            "Data columns (total 3 columns):\n",
            " #   Column  Non-Null Count  Dtype  \n",
            "---  ------  --------------  -----  \n",
            " 0   apache  284 non-null    float64\n",
            " 1   yas     440 non-null    int64  \n",
            " 2   vaka    440 non-null    int64  \n",
            "dtypes: float64(1), int64(2)\n",
            "memory usage: 10.4 KB\n"
          ]
        }
      ]
    },
    {
      "cell_type": "markdown",
      "source": [
        "# Eksik Veri\n",
        "\n",
        "Eksik verileri doldurma işlemi"
      ],
      "metadata": {
        "id": "x23OszhxsRWj"
      }
    },
    {
      "cell_type": "code",
      "source": [
        "#!pip install autoimpute"
      ],
      "metadata": {
        "id": "-GR4SguVsGAt"
      },
      "execution_count": null,
      "outputs": []
    },
    {
      "cell_type": "code",
      "source": [
        "from autoimpute.imputations import SingleImputer, MultipleImputer, MiceImputer\n",
        "si = SingleImputer() # pass through data once\n",
        "mi = MultipleImputer() # pass through data multiple times\n",
        "mice = MiceImputer() # pass through data multiple times and iteratively optimize imputations in each column"
      ],
      "metadata": {
        "id": "6AtVGw-5smVB"
      },
      "execution_count": null,
      "outputs": []
    },
    {
      "cell_type": "code",
      "source": [
        "print(dataset.dtypes)"
      ],
      "metadata": {
        "colab": {
          "base_uri": "https://localhost:8080/"
        },
        "id": "HUoXV_eZssFL",
        "outputId": "4dbe2a1c-56a7-4a3c-b9cb-ec84faead47a"
      },
      "execution_count": null,
      "outputs": [
        {
          "output_type": "stream",
          "name": "stdout",
          "text": [
            "apache    float64\n",
            "yas         int64\n",
            "vaka        int64\n",
            "dtype: object\n"
          ]
        }
      ]
    },
    {
      "cell_type": "markdown",
      "source": [
        "# autoimpute ile eksik veri doldurma\n",
        "apache verilerindeki eksik veriler medyan alınarak doldurulacak"
      ],
      "metadata": {
        "id": "AOcE8kgLuEma"
      }
    },
    {
      "cell_type": "code",
      "source": [
        "data_imputed=si.fit_transform(dataset)"
      ],
      "metadata": {
        "colab": {
          "base_uri": "https://localhost:8080/",
          "height": 57
        },
        "id": "G3VNAPHLt3vW",
        "outputId": "5268a409-45e4-4781-c5f2-2bbe1418d15f"
      },
      "execution_count": null,
      "outputs": [
        {
          "output_type": "display_data",
          "data": {
            "text/plain": [
              "<IPython.core.display.HTML object>"
            ],
            "text/html": [
              "\n",
              "<style>\n",
              "    /* Turns off some styling */\n",
              "    progress {\n",
              "        /* gets rid of default border in Firefox and Opera. */\n",
              "        border: none;\n",
              "        /* Needs to be in here for Safari polyfill so background images work as expected. */\n",
              "        background-size: auto;\n",
              "    }\n",
              "    progress:not([value]), progress:not([value])::-webkit-progress-bar {\n",
              "        background: repeating-linear-gradient(45deg, #7e7e7e, #7e7e7e 10px, #5c5c5c 10px, #5c5c5c 20px);\n",
              "    }\n",
              "    .progress-bar-interrupted, .progress-bar-interrupted::-webkit-progress-bar {\n",
              "        background: #F44336;\n",
              "    }\n",
              "</style>\n"
            ]
          },
          "metadata": {}
        },
        {
          "output_type": "display_data",
          "data": {
            "text/plain": [
              "<IPython.core.display.HTML object>"
            ],
            "text/html": [
              "\n",
              "    <div>\n",
              "      <progress value='2000' class='' max='2000' style='width:300px; height:20px; vertical-align: middle;'></progress>\n",
              "      100.00% [2000/2000 00:08&lt;00:00 Sampling chain 0, 0 divergences]\n",
              "    </div>\n",
              "    "
            ]
          },
          "metadata": {}
        },
        {
          "output_type": "display_data",
          "data": {
            "text/plain": [
              "<IPython.core.display.HTML object>"
            ],
            "text/html": [
              "\n",
              "<style>\n",
              "    /* Turns off some styling */\n",
              "    progress {\n",
              "        /* gets rid of default border in Firefox and Opera. */\n",
              "        border: none;\n",
              "        /* Needs to be in here for Safari polyfill so background images work as expected. */\n",
              "        background-size: auto;\n",
              "    }\n",
              "    progress:not([value]), progress:not([value])::-webkit-progress-bar {\n",
              "        background: repeating-linear-gradient(45deg, #7e7e7e, #7e7e7e 10px, #5c5c5c 10px, #5c5c5c 20px);\n",
              "    }\n",
              "    .progress-bar-interrupted, .progress-bar-interrupted::-webkit-progress-bar {\n",
              "        background: #F44336;\n",
              "    }\n",
              "</style>\n"
            ]
          },
          "metadata": {}
        },
        {
          "output_type": "display_data",
          "data": {
            "text/plain": [
              "<IPython.core.display.HTML object>"
            ],
            "text/html": [
              "\n",
              "    <div>\n",
              "      <progress value='2000' class='' max='2000' style='width:300px; height:20px; vertical-align: middle;'></progress>\n",
              "      100.00% [2000/2000 00:09&lt;00:00 Sampling chain 1, 0 divergences]\n",
              "    </div>\n",
              "    "
            ]
          },
          "metadata": {}
        }
      ]
    },
    {
      "cell_type": "code",
      "source": [
        "print(dataset.dtypes)\n",
        "dataset['vaka'] = dataset.vaka.astype('category')\n",
        "dataset['apache'] = dataset.vaka.astype(int)\n",
        "print(dataset.dtypes)"
      ],
      "metadata": {
        "colab": {
          "base_uri": "https://localhost:8080/"
        },
        "id": "FqmApQKvuys-",
        "outputId": "9867b29f-c93a-4cac-f38f-2d5a173603fb"
      },
      "execution_count": null,
      "outputs": [
        {
          "output_type": "stream",
          "name": "stdout",
          "text": [
            "apache     float64\n",
            "yas          int64\n",
            "vaka      category\n",
            "dtype: object\n",
            "apache       int64\n",
            "yas          int64\n",
            "vaka      category\n",
            "dtype: object\n"
          ]
        }
      ]
    },
    {
      "cell_type": "code",
      "source": [
        "X = data_imputed.iloc[:, :-1].values\n",
        "y = data_imputed.iloc[:, -1].values"
      ],
      "metadata": {
        "id": "J6D_pWYjBQL6"
      },
      "execution_count": null,
      "outputs": []
    },
    {
      "cell_type": "code",
      "source": [
        "from sklearn.model_selection import train_test_split\n",
        "X_train, X_test, y_train, y_test = train_test_split(X, y, test_size = 0.25, random_state = 0)"
      ],
      "metadata": {
        "id": "9ABpY98YCZAO"
      },
      "execution_count": null,
      "outputs": []
    },
    {
      "cell_type": "code",
      "source": [
        "print(X_train)"
      ],
      "metadata": {
        "colab": {
          "base_uri": "https://localhost:8080/"
        },
        "id": "3b1d_ypDCakT",
        "outputId": "f131db4a-cf87-4f4a-d130-e2826bb26fb9"
      },
      "execution_count": null,
      "outputs": [
        {
          "output_type": "stream",
          "name": "stdout",
          "text": [
            "[[ 14.  69.]\n",
            " [ 19.  84.]\n",
            " [ 24.  70.]\n",
            " [  8.  69.]\n",
            " [ 16.  59.]\n",
            " [  9.  85.]\n",
            " [ 16.  93.]\n",
            " [  7.  68.]\n",
            " [  9.  77.]\n",
            " [ 28.  50.]\n",
            " [ 22.  37.]\n",
            " [  7.  71.]\n",
            " [ 19.  78.]\n",
            " [  5.  66.]\n",
            " [ 13.  77.]\n",
            " [  7.  66.]\n",
            " [ 22.  80.]\n",
            " [  3.  72.]\n",
            " [ 11.  87.]\n",
            " [  8.  79.]\n",
            " [ 20.  66.]\n",
            " [ 12.  64.]\n",
            " [  6.  18.]\n",
            " [ 24.  72.]\n",
            " [  9.  75.]\n",
            " [  8.  68.]\n",
            " [  2.  21.]\n",
            " [ 11.  78.]\n",
            " [ 23.  80.]\n",
            " [  6.  45.]\n",
            " [  6.  74.]\n",
            " [  5.  58.]\n",
            " [ 20.  66.]\n",
            " [ 14.  72.]\n",
            " [ 28.  73.]\n",
            " [  6.  52.]\n",
            " [ 32.  79.]\n",
            " [ 18.  69.]\n",
            " [  2.  37.]\n",
            " [ 10.  78.]\n",
            " [ 20.  61.]\n",
            " [ 28.  85.]\n",
            " [ 13.  85.]\n",
            " [ 18.  88.]\n",
            " [  5.  72.]\n",
            " [ 23.  85.]\n",
            " [  7.  50.]\n",
            " [  7.  71.]\n",
            " [ 29.  73.]\n",
            " [ 11.  61.]\n",
            " [ 24.  74.]\n",
            " [  5.  62.]\n",
            " [ 13.  65.]\n",
            " [ 22.  79.]\n",
            " [ 23.  64.]\n",
            " [ 13.  83.]\n",
            " [  5.  49.]\n",
            " [  3.  56.]\n",
            " [ 27.  79.]\n",
            " [ 20.  59.]\n",
            " [  8.  71.]\n",
            " [ 15.  61.]\n",
            " [ 28.  92.]\n",
            " [  7.  55.]\n",
            " [ 10.  59.]\n",
            " [ 22.  77.]\n",
            " [  5.  43.]\n",
            " [  8.  79.]\n",
            " [  5.  74.]\n",
            " [  9.  73.]\n",
            " [ 27.  83.]\n",
            " [ 16.  65.]\n",
            " [  2.  53.]\n",
            " [ 17. 667.]\n",
            " [ 25.  75.]\n",
            " [ 14.  81.]\n",
            " [ 24.  72.]\n",
            " [  1.  21.]\n",
            " [ 11.  50.]\n",
            " [ 28.  78.]\n",
            " [ 11.  67.]\n",
            " [  8.  80.]\n",
            " [ 25.  64.]\n",
            " [ 28.  69.]\n",
            " [ 14.  38.]\n",
            " [ 16.  73.]\n",
            " [  1.  42.]\n",
            " [ 11.  78.]\n",
            " [  5.  23.]\n",
            " [ 34.  70.]\n",
            " [ 15.  62.]\n",
            " [ 13.  63.]\n",
            " [  3.  37.]\n",
            " [  9.  71.]\n",
            " [  1.  43.]\n",
            " [  8.  81.]\n",
            " [ 15.  60.]\n",
            " [ 17.  68.]\n",
            " [  3.  55.]\n",
            " [  3.  60.]\n",
            " [ 17.  66.]\n",
            " [ 23.  72.]\n",
            " [ 18.  76.]\n",
            " [ 14.  52.]\n",
            " [ 13.  62.]\n",
            " [ 12.  66.]\n",
            " [ 13.  40.]\n",
            " [ 10.  63.]\n",
            " [  5.  33.]\n",
            " [ 11.  71.]\n",
            " [ 13.  61.]\n",
            " [  7.  38.]\n",
            " [  7.  76.]\n",
            " [  5.  61.]\n",
            " [ 15.  80.]\n",
            " [  6.  87.]\n",
            " [ 17.  58.]\n",
            " [ 18.  66.]\n",
            " [ 23.  55.]\n",
            " [ 11.  87.]\n",
            " [ 26.  81.]\n",
            " [  9.  69.]\n",
            " [ 14.  64.]\n",
            " [ 28.  90.]\n",
            " [ 10.  62.]\n",
            " [  9.  72.]\n",
            " [  3.  62.]\n",
            " [ 27.  78.]\n",
            " [ 10.  87.]\n",
            " [ 28.  92.]\n",
            " [ 11.  66.]\n",
            " [  2.  34.]\n",
            " [ 28.  72.]\n",
            " [ 25.  55.]\n",
            " [ 22.  48.]\n",
            " [ 15.  75.]\n",
            " [  7.  73.]\n",
            " [  5.  59.]\n",
            " [ 18.  75.]\n",
            " [ 10.  59.]\n",
            " [ 17.  70.]\n",
            " [ 17.  70.]\n",
            " [  5.  61.]\n",
            " [  5.  35.]\n",
            " [ 25.  66.]\n",
            " [ 19.  68.]\n",
            " [  1.  48.]\n",
            " [ 21.  93.]\n",
            " [ 24.  63.]\n",
            " [ 23.  64.]\n",
            " [ 13.  50.]\n",
            " [ 31.  73.]\n",
            " [ 22.  39.]\n",
            " [ 23.  81.]\n",
            " [ 19.  76.]\n",
            " [ 22.  66.]\n",
            " [ 15.  64.]\n",
            " [  5.  61.]\n",
            " [  9.  74.]\n",
            " [  3.  60.]\n",
            " [  6.  90.]\n",
            " [ 21.  74.]\n",
            " [  6.  58.]\n",
            " [  9.  82.]\n",
            " [  9.  84.]\n",
            " [ 19.  87.]\n",
            " [ 10.  73.]\n",
            " [ 11.  70.]\n",
            " [  5.  75.]\n",
            " [ 37.  50.]\n",
            " [ 11.  71.]\n",
            " [ 15.  75.]\n",
            " [ 22.  56.]\n",
            " [ 25.  91.]\n",
            " [ 28.  67.]\n",
            " [  1.  54.]\n",
            " [ 10.  45.]\n",
            " [ 11.  70.]\n",
            " [ 14.  65.]\n",
            " [ 25.  69.]\n",
            " [  6.  58.]\n",
            " [ 22.  52.]\n",
            " [ 17.  66.]\n",
            " [ 10.  77.]\n",
            " [  6.  62.]\n",
            " [ 22.  32.]\n",
            " [ 18.  61.]\n",
            " [  9.  72.]\n",
            " [ 34.  59.]\n",
            " [  7.  55.]\n",
            " [  7.  81.]\n",
            " [ 24.  91.]\n",
            " [ 16.  45.]\n",
            " [ 28.  68.]\n",
            " [ 41.  60.]\n",
            " [ 13.  78.]\n",
            " [ 14.  82.]\n",
            " [  7.  72.]\n",
            " [ 18.  64.]\n",
            " [  0.  39.]\n",
            " [ 14.  62.]\n",
            " [  5.  31.]\n",
            " [  5.  71.]\n",
            " [  9.  54.]\n",
            " [ 20.  74.]\n",
            " [ 18.  67.]\n",
            " [  9.  62.]\n",
            " [ 27.  68.]\n",
            " [ 29.  76.]\n",
            " [  6.  73.]\n",
            " [ 21.  60.]\n",
            " [  9.  67.]\n",
            " [  7.  72.]\n",
            " [ 35.  51.]\n",
            " [  7.  73.]\n",
            " [ 22.  86.]\n",
            " [  7.  73.]\n",
            " [  9.  75.]\n",
            " [  6.  77.]\n",
            " [ 16.  77.]\n",
            " [ 14.  45.]\n",
            " [  8.  64.]\n",
            " [ 22.  57.]\n",
            " [  8.  81.]\n",
            " [  9.  71.]\n",
            " [  3.  61.]\n",
            " [ 14.  79.]\n",
            " [ 21.  72.]\n",
            " [ 20.  62.]\n",
            " [ 24.  60.]\n",
            " [  5.  38.]\n",
            " [ 16.  77.]\n",
            " [  0.  41.]\n",
            " [ 24.  53.]\n",
            " [  7.  27.]\n",
            " [  5.  61.]\n",
            " [ 28.  82.]\n",
            " [  7.  54.]\n",
            " [  2.  52.]\n",
            " [ 19.  73.]\n",
            " [  5.  60.]\n",
            " [  9.  91.]\n",
            " [ 25.  84.]\n",
            " [ 22.  30.]\n",
            " [  5.  56.]\n",
            " [ 13.  67.]\n",
            " [  5.  68.]\n",
            " [  8.  65.]\n",
            " [ 17.  74.]\n",
            " [  7.  51.]\n",
            " [  8.  35.]\n",
            " [  8.  82.]\n",
            " [ 24.  79.]\n",
            " [ 22.  58.]\n",
            " [ 11.  73.]\n",
            " [  9.  75.]\n",
            " [ 13.  87.]\n",
            " [ 34.  94.]\n",
            " [ 10.  66.]\n",
            " [  9.  90.]\n",
            " [  5.  83.]\n",
            " [ 40.  73.]\n",
            " [  6.  75.]\n",
            " [ 28.  90.]\n",
            " [ 18.  60.]\n",
            " [ 18.  75.]\n",
            " [ 21.  75.]\n",
            " [ 15.  87.]\n",
            " [ 18.  62.]\n",
            " [  7.  60.]\n",
            " [ 20.  90.]\n",
            " [ 22.  40.]\n",
            " [  7.  73.]\n",
            " [ 43.  72.]\n",
            " [ 11.  21.]\n",
            " [ 15.  77.]\n",
            " [ 30.  59.]\n",
            " [  2.  66.]\n",
            " [  9.  52.]\n",
            " [  6.  81.]\n",
            " [ 20.  87.]\n",
            " [ 30.  81.]\n",
            " [ 15.  77.]\n",
            " [ 12.  82.]\n",
            " [  7.  50.]\n",
            " [ 11.  80.]\n",
            " [ 23.  81.]\n",
            " [  7.  23.]\n",
            " [  7.  61.]\n",
            " [ 10.  82.]\n",
            " [ 21.  70.]\n",
            " [ 24.  51.]\n",
            " [  7.  56.]\n",
            " [ 13.  66.]\n",
            " [ 16.  76.]\n",
            " [  6.  54.]\n",
            " [ 17.  85.]\n",
            " [ 15.  82.]\n",
            " [ 14.  60.]\n",
            " [ 20.  79.]\n",
            " [  2.  50.]\n",
            " [ 19.  82.]\n",
            " [ 13.  51.]\n",
            " [  4.  60.]\n",
            " [ 31.  73.]\n",
            " [ 10.  69.]\n",
            " [ 22.  30.]\n",
            " [ 24.  75.]\n",
            " [ 14.  47.]\n",
            " [ 25.  54.]\n",
            " [  7.  57.]\n",
            " [ 31.  72.]\n",
            " [ 17.  81.]\n",
            " [ 11.  50.]\n",
            " [  8.  58.]\n",
            " [ 12.  77.]\n",
            " [ 15.  62.]\n",
            " [ 23.  56.]\n",
            " [  5.  60.]\n",
            " [ 10.  83.]\n",
            " [ 28.  68.]\n",
            " [ 11.  52.]\n",
            " [  7.  37.]\n",
            " [ 25.  77.]\n",
            " [ 13.  80.]\n",
            " [ 23.  73.]\n",
            " [ 14.  60.]\n",
            " [ 12.  29.]\n",
            " [ 28.  82.]\n",
            " [ 36.  72.]]\n"
          ]
        }
      ]
    },
    {
      "cell_type": "code",
      "source": [
        "print(y_train)"
      ],
      "metadata": {
        "colab": {
          "base_uri": "https://localhost:8080/"
        },
        "id": "8I966PrACbl0",
        "outputId": "b50d3095-7cd5-4900-9b93-9145d12da9a8"
      },
      "execution_count": null,
      "outputs": [
        {
          "output_type": "stream",
          "name": "stdout",
          "text": [
            "[1 2 2 1 2 1 1 1 1 2 1 2 2 2 1 2 2 2 2 2 1 1 2 1 2 2 1 2 1 2 2 2 2 1 1 2 2\n",
            " 2 1 1 1 1 2 1 2 2 1 2 1 1 1 2 2 2 1 1 1 2 1 1 1 1 2 2 1 1 1 2 1 2 1 2 1 2\n",
            " 1 1 2 2 2 1 1 2 1 1 2 1 1 1 1 1 1 2 2 2 2 2 1 2 1 2 2 2 1 1 2 2 2 1 1 2 2\n",
            " 1 2 2 1 2 1 1 2 1 2 2 2 1 1 1 2 2 2 1 2 1 1 1 2 1 2 2 2 1 1 1 2 1 1 1 2 1\n",
            " 1 1 2 1 2 1 2 2 1 2 2 2 1 1 2 2 1 1 1 1 2 1 2 1 2 2 2 2 2 2 1 2 2 2 1 2 1\n",
            " 2 2 1 1 2 2 2 2 2 1 2 1 2 2 1 2 1 2 1 2 1 1 2 1 1 2 2 2 1 2 1 2 1 1 1 1 1\n",
            " 1 2 1 2 2 1 2 1 2 1 2 1 1 2 1 2 1 2 2 1 1 2 1 1 2 2 2 2 1 1 1 2 2 1 1 2 1\n",
            " 2 2 1 2 2 2 1 1 2 2 2 1 1 2 1 2 1 1 2 1 1 2 1 1 1 1 1 2 2 2 2 1 2 2 1 1 2\n",
            " 2 1 2 1 2 2 1 2 1 1 2 2 1 2 1 1 2 2 1 1 1 2 2 2 1 1 2 1 2 2 1 1 1 1]\n"
          ]
        }
      ]
    },
    {
      "cell_type": "code",
      "source": [
        "print(X_test)"
      ],
      "metadata": {
        "colab": {
          "base_uri": "https://localhost:8080/"
        },
        "id": "u8oSdANwCorg",
        "outputId": "fc0a8b35-0438-4821-e3ac-c064cf46b23d"
      },
      "execution_count": null,
      "outputs": [
        {
          "output_type": "stream",
          "name": "stdout",
          "text": [
            "[[14. 46.]\n",
            " [22. 57.]\n",
            " [17. 73.]\n",
            " [ 7. 72.]\n",
            " [16. 74.]\n",
            " [ 8. 31.]\n",
            " [ 7. 27.]\n",
            " [16. 76.]\n",
            " [10. 78.]\n",
            " [16. 74.]\n",
            " [ 9. 48.]\n",
            " [26. 85.]\n",
            " [13. 63.]\n",
            " [13. 80.]\n",
            " [ 7. 83.]\n",
            " [19. 64.]\n",
            " [26. 59.]\n",
            " [ 5. 72.]\n",
            " [10. 82.]\n",
            " [18. 48.]\n",
            " [13. 67.]\n",
            " [18. 30.]\n",
            " [27. 91.]\n",
            " [ 2. 39.]\n",
            " [ 2. 46.]\n",
            " [ 5. 37.]\n",
            " [ 6. 33.]\n",
            " [ 6. 53.]\n",
            " [11. 48.]\n",
            " [18. 51.]\n",
            " [27. 82.]\n",
            " [18. 69.]\n",
            " [16. 88.]\n",
            " [ 2. 52.]\n",
            " [ 5. 56.]\n",
            " [21. 78.]\n",
            " [ 5. 65.]\n",
            " [22. 45.]\n",
            " [10. 87.]\n",
            " [ 6. 58.]\n",
            " [16. 78.]\n",
            " [21. 74.]\n",
            " [19. 66.]\n",
            " [16. 63.]\n",
            " [ 5. 67.]\n",
            " [58. 83.]\n",
            " [21. 73.]\n",
            " [ 7. 39.]\n",
            " [18. 69.]\n",
            " [21. 57.]\n",
            " [28. 68.]\n",
            " [27. 68.]\n",
            " [17. 71.]\n",
            " [27. 66.]\n",
            " [11. 69.]\n",
            " [ 7. 69.]\n",
            " [18. 83.]\n",
            " [ 2. 70.]\n",
            " [17. 89.]\n",
            " [22. 80.]\n",
            " [ 7. 72.]\n",
            " [11. 78.]\n",
            " [10. 88.]\n",
            " [17. 82.]\n",
            " [ 9. 72.]\n",
            " [22. 79.]\n",
            " [ 3. 47.]\n",
            " [13. 77.]\n",
            " [11. 39.]\n",
            " [26. 73.]\n",
            " [27. 71.]\n",
            " [22. 81.]\n",
            " [ 7. 59.]\n",
            " [22. 62.]\n",
            " [ 1. 23.]\n",
            " [ 7. 57.]\n",
            " [27. 62.]\n",
            " [11. 44.]\n",
            " [23. 69.]\n",
            " [28. 18.]\n",
            " [ 7. 29.]\n",
            " [27. 70.]\n",
            " [11. 43.]\n",
            " [17. 58.]\n",
            " [23. 55.]\n",
            " [21. 69.]\n",
            " [17. 65.]\n",
            " [ 7. 73.]\n",
            " [ 6. 77.]\n",
            " [ 3. 59.]\n",
            " [10. 75.]\n",
            " [14. 75.]\n",
            " [11. 53.]\n",
            " [ 0. 44.]\n",
            " [ 3. 59.]\n",
            " [17. 69.]\n",
            " [16. 64.]\n",
            " [21. 79.]\n",
            " [ 9. 82.]\n",
            " [37. 85.]\n",
            " [11. 41.]\n",
            " [12. 81.]\n",
            " [13. 77.]\n",
            " [14. 75.]\n",
            " [ 9. 88.]\n",
            " [18. 27.]\n",
            " [18. 69.]\n",
            " [28. 57.]\n",
            " [15. 50.]\n",
            " [20. 93.]]\n"
          ]
        }
      ]
    },
    {
      "cell_type": "code",
      "source": [
        "print(y_test)"
      ],
      "metadata": {
        "colab": {
          "base_uri": "https://localhost:8080/"
        },
        "id": "z52VMosyCqOt",
        "outputId": "d3600cee-17b3-45c5-f6a2-ef3cb01d2fc8"
      },
      "execution_count": null,
      "outputs": [
        {
          "output_type": "stream",
          "name": "stdout",
          "text": [
            "[1 2 2 2 1 1 1 2 2 2 1 1 2 2 2 2 1 1 2 1 2 1 1 1 1 2 2 2 2 2 2 1 1 2 2 1 2\n",
            " 1 1 2 1 2 1 1 1 1 1 2 2 1 1 2 1 1 1 2 2 2 1 2 2 1 2 1 2 2 1 2 1 2 1 2 1 1\n",
            " 2 2 2 2 2 1 1 1 2 1 1 1 1 1 1 2 1 2 2 1 2 1 2 1 1 2 2 1 2 2 1 1 2 1 1 2]\n"
          ]
        }
      ]
    },
    {
      "cell_type": "code",
      "source": [
        "from sklearn.preprocessing import StandardScaler\n",
        "sc = StandardScaler()\n",
        "X_train = sc.fit_transform(X_train)\n",
        "X_test = sc.transform(X_test)"
      ],
      "metadata": {
        "id": "iwFe-OSfCsiV"
      },
      "execution_count": null,
      "outputs": []
    },
    {
      "cell_type": "code",
      "source": [
        "print(X_train)"
      ],
      "metadata": {
        "id": "u_eGlCf3CtwO"
      },
      "execution_count": null,
      "outputs": []
    },
    {
      "cell_type": "code",
      "source": [
        "print(X_test)"
      ],
      "metadata": {
        "id": "q_yUsu8KCvX1"
      },
      "execution_count": null,
      "outputs": []
    },
    {
      "cell_type": "markdown",
      "source": [
        "# SVM Algoritması"
      ],
      "metadata": {
        "id": "QcenRdSQC0FH"
      }
    },
    {
      "cell_type": "code",
      "source": [
        "from sklearn.svm import SVC\n",
        "classifier = SVC(kernel = 'linear', random_state = 0)\n",
        "classifier.fit(X_train, y_train)"
      ],
      "metadata": {
        "colab": {
          "base_uri": "https://localhost:8080/",
          "height": 75
        },
        "id": "9of0tX9ACyHQ",
        "outputId": "0c6af980-46cb-4464-d68e-afcbebe26be5"
      },
      "execution_count": null,
      "outputs": [
        {
          "output_type": "execute_result",
          "data": {
            "text/plain": [
              "SVC(kernel='linear', random_state=0)"
            ],
            "text/html": [
              "<style>#sk-container-id-3 {color: black;background-color: white;}#sk-container-id-3 pre{padding: 0;}#sk-container-id-3 div.sk-toggleable {background-color: white;}#sk-container-id-3 label.sk-toggleable__label {cursor: pointer;display: block;width: 100%;margin-bottom: 0;padding: 0.3em;box-sizing: border-box;text-align: center;}#sk-container-id-3 label.sk-toggleable__label-arrow:before {content: \"▸\";float: left;margin-right: 0.25em;color: #696969;}#sk-container-id-3 label.sk-toggleable__label-arrow:hover:before {color: black;}#sk-container-id-3 div.sk-estimator:hover label.sk-toggleable__label-arrow:before {color: black;}#sk-container-id-3 div.sk-toggleable__content {max-height: 0;max-width: 0;overflow: hidden;text-align: left;background-color: #f0f8ff;}#sk-container-id-3 div.sk-toggleable__content pre {margin: 0.2em;color: black;border-radius: 0.25em;background-color: #f0f8ff;}#sk-container-id-3 input.sk-toggleable__control:checked~div.sk-toggleable__content {max-height: 200px;max-width: 100%;overflow: auto;}#sk-container-id-3 input.sk-toggleable__control:checked~label.sk-toggleable__label-arrow:before {content: \"▾\";}#sk-container-id-3 div.sk-estimator input.sk-toggleable__control:checked~label.sk-toggleable__label {background-color: #d4ebff;}#sk-container-id-3 div.sk-label input.sk-toggleable__control:checked~label.sk-toggleable__label {background-color: #d4ebff;}#sk-container-id-3 input.sk-hidden--visually {border: 0;clip: rect(1px 1px 1px 1px);clip: rect(1px, 1px, 1px, 1px);height: 1px;margin: -1px;overflow: hidden;padding: 0;position: absolute;width: 1px;}#sk-container-id-3 div.sk-estimator {font-family: monospace;background-color: #f0f8ff;border: 1px dotted black;border-radius: 0.25em;box-sizing: border-box;margin-bottom: 0.5em;}#sk-container-id-3 div.sk-estimator:hover {background-color: #d4ebff;}#sk-container-id-3 div.sk-parallel-item::after {content: \"\";width: 100%;border-bottom: 1px solid gray;flex-grow: 1;}#sk-container-id-3 div.sk-label:hover label.sk-toggleable__label {background-color: #d4ebff;}#sk-container-id-3 div.sk-serial::before {content: \"\";position: absolute;border-left: 1px solid gray;box-sizing: border-box;top: 0;bottom: 0;left: 50%;z-index: 0;}#sk-container-id-3 div.sk-serial {display: flex;flex-direction: column;align-items: center;background-color: white;padding-right: 0.2em;padding-left: 0.2em;position: relative;}#sk-container-id-3 div.sk-item {position: relative;z-index: 1;}#sk-container-id-3 div.sk-parallel {display: flex;align-items: stretch;justify-content: center;background-color: white;position: relative;}#sk-container-id-3 div.sk-item::before, #sk-container-id-3 div.sk-parallel-item::before {content: \"\";position: absolute;border-left: 1px solid gray;box-sizing: border-box;top: 0;bottom: 0;left: 50%;z-index: -1;}#sk-container-id-3 div.sk-parallel-item {display: flex;flex-direction: column;z-index: 1;position: relative;background-color: white;}#sk-container-id-3 div.sk-parallel-item:first-child::after {align-self: flex-end;width: 50%;}#sk-container-id-3 div.sk-parallel-item:last-child::after {align-self: flex-start;width: 50%;}#sk-container-id-3 div.sk-parallel-item:only-child::after {width: 0;}#sk-container-id-3 div.sk-dashed-wrapped {border: 1px dashed gray;margin: 0 0.4em 0.5em 0.4em;box-sizing: border-box;padding-bottom: 0.4em;background-color: white;}#sk-container-id-3 div.sk-label label {font-family: monospace;font-weight: bold;display: inline-block;line-height: 1.2em;}#sk-container-id-3 div.sk-label-container {text-align: center;}#sk-container-id-3 div.sk-container {/* jupyter's `normalize.less` sets `[hidden] { display: none; }` but bootstrap.min.css set `[hidden] { display: none !important; }` so we also need the `!important` here to be able to override the default hidden behavior on the sphinx rendered scikit-learn.org. See: https://github.com/scikit-learn/scikit-learn/issues/21755 */display: inline-block !important;position: relative;}#sk-container-id-3 div.sk-text-repr-fallback {display: none;}</style><div id=\"sk-container-id-3\" class=\"sk-top-container\"><div class=\"sk-text-repr-fallback\"><pre>SVC(kernel=&#x27;linear&#x27;, random_state=0)</pre><b>In a Jupyter environment, please rerun this cell to show the HTML representation or trust the notebook. <br />On GitHub, the HTML representation is unable to render, please try loading this page with nbviewer.org.</b></div><div class=\"sk-container\" hidden><div class=\"sk-item\"><div class=\"sk-estimator sk-toggleable\"><input class=\"sk-toggleable__control sk-hidden--visually\" id=\"sk-estimator-id-3\" type=\"checkbox\" checked><label for=\"sk-estimator-id-3\" class=\"sk-toggleable__label sk-toggleable__label-arrow\">SVC</label><div class=\"sk-toggleable__content\"><pre>SVC(kernel=&#x27;linear&#x27;, random_state=0)</pre></div></div></div></div></div>"
            ]
          },
          "metadata": {},
          "execution_count": 130
        }
      ]
    },
    {
      "cell_type": "code",
      "source": [
        "print(classifier.predict(sc.transform([[100,0]])))"
      ],
      "metadata": {
        "colab": {
          "base_uri": "https://localhost:8080/"
        },
        "id": "TaODJpJnC2HT",
        "outputId": "f9852f46-a84a-4922-f545-773268e22071"
      },
      "execution_count": null,
      "outputs": [
        {
          "output_type": "stream",
          "name": "stdout",
          "text": [
            "[1]\n"
          ]
        }
      ]
    },
    {
      "cell_type": "code",
      "source": [
        "y_pred = classifier.predict(X_test)\n",
        "print(np.concatenate((y_pred.reshape(len(y_pred),1), y_test.reshape(len(y_test),1)),1))"
      ],
      "metadata": {
        "id": "fDzf-RuEC6TD"
      },
      "execution_count": null,
      "outputs": []
    },
    {
      "cell_type": "code",
      "source": [
        "from sklearn.metrics import confusion_matrix, accuracy_score\n",
        "cm = confusion_matrix(y_test, y_pred)\n",
        "print(cm)\n",
        "accuracy_score(y_test, y_pred)"
      ],
      "metadata": {
        "colab": {
          "base_uri": "https://localhost:8080/"
        },
        "id": "mi7V3D_2DBHV",
        "outputId": "e232fb6f-277e-47b7-fb58-fa5d96f0c49b"
      },
      "execution_count": null,
      "outputs": [
        {
          "output_type": "stream",
          "name": "stdout",
          "text": [
            "[[29 27]\n",
            " [18 36]]\n"
          ]
        },
        {
          "output_type": "execute_result",
          "data": {
            "text/plain": [
              "0.5909090909090909"
            ]
          },
          "metadata": {},
          "execution_count": 133
        }
      ]
    },
    {
      "cell_type": "code",
      "source": [
        "from matplotlib.colors import ListedColormap\n",
        "X_set, y_set = sc.inverse_transform(X_train), y_train\n",
        "X1, X2 = np.meshgrid(np.arange(start = X_set[:, 0].min() - 10, stop = X_set[:, 0].max() + 10, step = 0.25),\n",
        "                     np.arange(start = X_set[:, 1].min() - 1000, stop = X_set[:, 1].max() + 1000, step = 0.25))\n",
        "plt.contourf(X1, X2, classifier.predict(sc.transform(np.array([X1.ravel(), X2.ravel()]).T)).reshape(X1.shape),\n",
        "             alpha = 0.75, cmap = ListedColormap(('salmon', 'dodgerblue')))\n",
        "plt.xlim(X1.min(), X1.max())\n",
        "plt.ylim(X2.min(), X2.max())\n",
        "for i, j in enumerate(np.unique(y_set)):\n",
        "    plt.scatter(X_set[y_set == j, 0], X_set[y_set == j, 1], c = ListedColormap(('salmon', 'dodgerblue'))(i), label = j)\n",
        "plt.title('SVM (Training set)')\n",
        "plt.xlabel('Age')\n",
        "plt.ylabel('Estimated Salary')\n",
        "plt.legend()\n",
        "plt.show()"
      ],
      "metadata": {
        "colab": {
          "base_uri": "https://localhost:8080/",
          "height": 528
        },
        "id": "T6av366CDD7A",
        "outputId": "aef3e1ed-cf8b-4549-9c73-131121cac225"
      },
      "execution_count": null,
      "outputs": [
        {
          "output_type": "stream",
          "name": "stderr",
          "text": [
            "<ipython-input-134-d7ea1924e473>:10: UserWarning: *c* argument looks like a single numeric RGB or RGBA sequence, which should be avoided as value-mapping will have precedence in case its length matches with *x* & *y*.  Please use the *color* keyword-argument or provide a 2D array with a single row if you intend to specify the same RGB or RGBA value for all points.\n",
            "  plt.scatter(X_set[y_set == j, 0], X_set[y_set == j, 1], c = ListedColormap(('salmon', 'dodgerblue'))(i), label = j)\n"
          ]
        },
        {
          "output_type": "display_data",
          "data": {
            "text/plain": [
              "<Figure size 640x480 with 1 Axes>"
            ],
            "image/png": "[encoded data removed]"
          },
          "metadata": {}
        }
      ]
    },
    {
      "cell_type": "code",
      "source": [],
      "metadata": {
        "id": "AenCqcdoDFzl"
      },
      "execution_count": null,
      "outputs": []
    }
  ]
}